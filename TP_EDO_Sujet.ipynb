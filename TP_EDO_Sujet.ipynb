{
 "cells": [
  {
   "cell_type": "code",
   "execution_count": 1,
   "metadata": {},
   "outputs": [],
   "source": [
    "import numpy as np\n",
    "import matplotlib.pyplot as plt\n",
    "import scipy.optimize as opt"
   ]
  },
  {
   "cell_type": "markdown",
   "metadata": {},
   "source": [
    "# 1. Quelques schémas standards"
   ]
  },
  {
   "cell_type": "code",
   "execution_count": 2,
   "metadata": {},
   "outputs": [],
   "source": [
    "a = -10\n",
    "lin = ... ## A REMPLIR "
   ]
  },
  {
   "cell_type": "markdown",
   "metadata": {},
   "source": [
    "## 1.1. Euler explicite et Runge-Kutta 2"
   ]
  },
  {
   "cell_type": "code",
   "execution_count": 3,
   "metadata": {},
   "outputs": [],
   "source": [
    "## Code pour la méthode d'Euler explicite\n",
    "def Euler_exp(x0, f, T, N):\n",
    "    X = []\n",
    "    z = x0\n",
    "    X.append(z)\n",
    "    dt = T/N\n",
    "    for n in range(1,N):\n",
    "        z = ... ## A REMPLIR\n",
    "        X.append(z)\n",
    "    return X"
   ]
  },
  {
   "cell_type": "code",
   "execution_count": 4,
   "metadata": {},
   "outputs": [],
   "source": [
    "## Condition initiale et temps final\n",
    "x0 = np.array([1.])\n",
    "T = 5."
   ]
  },
  {
   "cell_type": "code",
   "execution_count": 5,
   "metadata": {},
   "outputs": [],
   "source": [
    "## Choix de la discrétisation\n",
    "N = ... ## A CHOISIR"
   ]
  },
  {
   "cell_type": "code",
   "execution_count": 6,
   "metadata": {},
   "outputs": [],
   "source": [
    "## Calcul de la solution approchée par Euler explicite\n",
    "x = ... ## A REMPLIR "
   ]
  },
  {
   "cell_type": "code",
   "execution_count": 7,
   "metadata": {},
   "outputs": [],
   "source": [
    "## Vraie solution\n",
    "solution = ... ## A REMPLIR "
   ]
  },
  {
   "cell_type": "code",
   "execution_count": 8,
   "metadata": {},
   "outputs": [],
   "source": [
    "## Tracé de la solution et comparaison avec la vraie solution\n",
    "t = np.linspace(0,T,N)\n",
    "v = solution(t)\n",
    "plt.plot(t,x)\n",
    "plt.plot(t,v)\n",
    "plt.show()"
   ]
  },
  {
   "cell_type": "code",
   "execution_count": 9,
   "metadata": {},
   "outputs": [],
   "source": [
    "## Code pour la méthode RK2\n",
    "def RK2(x0, f, T, N):\n",
    "    X = []\n",
    "    z = x0\n",
    "    X.append(z)\n",
    "    dt = T/N\n",
    "    for n in range(1,N):\n",
    "        z = ... ## A REMPLIR \n",
    "        X.append(z)\n",
    "    return X"
   ]
  },
  {
   "cell_type": "code",
   "execution_count": 10,
   "metadata": {},
   "outputs": [],
   "source": [
    "## Choix de la discrétisation\n",
    "N = 100"
   ]
  },
  {
   "cell_type": "code",
   "execution_count": 11,
   "metadata": {},
   "outputs": [],
   "source": [
    "## Calcul de la solution approchée\n",
    "x = ... ## A REMPLIR "
   ]
  },
  {
   "cell_type": "code",
   "execution_count": 12,
   "metadata": {},
   "outputs": [],
   "source": [
    "## Tracé de la solution et comparaison avec la vraie solution\n",
    "t = np.linspace(0,T,N)\n",
    "v = solution(t)\n",
    "plt.plot(t,x)\n",
    "plt.plot(t,v)\n",
    "plt.show()"
   ]
  },
  {
   "cell_type": "markdown",
   "metadata": {},
   "source": [
    "## 1.2. Ordre de convergence"
   ]
  },
  {
   "cell_type": "code",
   "execution_count": 13,
   "metadata": {},
   "outputs": [],
   "source": [
    "## Fonction calculant l'erreur commise pour une méthode donnée\n",
    "def erreur(x0, f, T, N, methode):\n",
    "    return np.max(np.abs((np.asarray(methode(x0, f, T, N))[:,0] - solution(np.linspace(0,T,N)))))"
   ]
  },
  {
   "cell_type": "code",
   "execution_count": 14,
   "metadata": {},
   "outputs": [],
   "source": [
    "## Calcul de l'erreur pour différentes valeurs de N\n",
    "delta = [] #Vecteur qui contiendra les erreurs\n",
    "echelle = [10**i for i in range(2,7)]\n" #différentes valeurs de N,
    "for N in echelle:\n",
    "    delta.append(...) ## A REMPLIR"
   ]
  },
  {
   "cell_type": "code",
   "execution_count": 15,
   "metadata": {},
   "outputs": [],
   "source": [
    "## Tracé de l'erreur en échelle log/log\n",
    "echelle_dt = [T/N for N in echelle]\n",
    "plt.loglog(echelle_dt, delta)\n",
    "plt.show()"
   ]
  },
  {
   "cell_type": "markdown",
   "metadata": {},
   "source": [
    "## 1.2. Méthodes d'Euler implicite et stabilité"
   ]
  },
  {
   "cell_type": "code",
   "execution_count": 18,
   "metadata": {},
   "outputs": [],
   "source": [
    "## Code pour la méthode d'Euler implicite\n",
    "def Euler_imp(x0, f, T, N):\n",
    "    X = []\n",
    "    z = x0\n",
    "    X.append(z)\n",
    "    dt = T/N\n",
    "    for n in range(1,N):\n",
    "        def fonction(u):\n",
    "            return ... ## A REMPLIR\n",
    "        z = opt.fsolve(fonction, ...) ## A REMPLIR\n",
    "        X.append(z)\n",
    "    return X"
   ]
  },
  {
   "cell_type": "code",
   "execution_count": 4,
   "metadata": {},
   "outputs": [],
   "source": [
    "## Choix de la discrétisation\n",
    "N = 1000"
   ]
  },
  {
   "cell_type": "code",
   "execution_count": 5,
   "metadata": {},
   "outputs": [],
   "source": [
    "## Calcul de la solution approchée\n",
    "x = ... ## A REMPLIR "
   ]
  },
  {
   "cell_type": "code",
   "execution_count": 21,
   "metadata": {},
   "outputs": [],
   "source": [
    "## Tracé de la solution et comparaison avec la vraie solution\n",
    "t = np.linspace(0,T,N)\n",
    "v = solution(t)\n",
    "plt.plot(t,x)\n",
    "plt.plot(t,v)\n",
    "plt.show()"
   ]
  },
  {
   "cell_type": "code",
   "execution_count": 24,
   "metadata": {},
   "outputs": [],
   "source": [
    "%%time\n",
    "## Temps de calcul pour les différentes méthodes\n",
    "x = ... ## A REMPLIR "
   ]
  },
  {
   "cell_type": "markdown",
   "metadata": {},
   "source": [
    "# 2. Application : quelques modèles en épidémiologie"
   ]
  },
  {
   "cell_type": "markdown",
   "metadata": {},
   "source": [
    "## 2.1. Résolution numérique du système SIR"
   ]
  },
  {
   "cell_type": "code",
   "execution_count": 25,
   "metadata": {},
   "outputs": [],
   "source": [
    "## Choix des paramètres\n",
    "alpha = 1/5\n",
    "Reprod_0 = 2\n",
    "N_0 = 6.7*10**7\n",
    "beta = alpha*Reprod_0/N_0\n",
    "T = 365\n",
    "R_0 = 0\n",
    "I_0 = 500000\n",
    "S_0 = N_0 - I_0 - R_0 "
   ]
  },
  {
   "cell_type": "code",
   "execution_count": 26,
   "metadata": {},
   "outputs": [],
   "source": [
    "## Fonction sous-jacente à l'EDO\n",
    "def fct_SIR(x):\n",
    "    return np.array([...]) ## A REMPLIR"
   ]
  },
  {
   "cell_type": "code",
   "execution_count": 27,
   "metadata": {},
   "outputs": [],
   "source": [
    "## Condition initiale\n",
    "x0 = ... ## A REMPLIR"
   ]
  },
  {
   "cell_type": "code",
   "execution_count": 28,
   "metadata": {},
   "outputs": [],
   "source": [
    "## Choix de la discrétisation\n",
    "N = 1000"
   ]
  },
  {
   "cell_type": "code",
   "execution_count": 29,
   "metadata": {},
   "outputs": [],
   "source": [
    "## Calcul de la solution approchée\n",
    "x = ... ## A REMPLIR "
   ]
  },
  {
   "cell_type": "code",
   "execution_count": null,
   "metadata": {},
   "outputs": [],
   "source": [
    "## Tracé de la solution\n",
    "t = np.linspace(0,T,N)\n",
    "plt.plot(t,np.asarray(x)[:,1])\n",
    "plt.show()"
   ]
  },
  {
   "cell_type": "code",
   "execution_count": 31,
   "metadata": {},
   "outputs": [],
   "source": [
    "## Tracé de la quantité S+I+R\n",
    "## A REMPLIR\n"
   ]
  },
  {
   "cell_type": "code",
   "execution_count": 32,
   "metadata": {},
   "outputs": [],
   "source": [
    "## Vérification de la formule obtenue en cours\n",
    "S_inf = ... ## A REMPLIR\n",
    "print(S_inf)\n",
    "print(S_0*np.exp(-(Reprod_0/N_0)*(N_0-S_inf-R_0)))"
   ]
  },
  {
   "cell_type": "markdown",
   "metadata": {},
   "source": [
    "## 2.2. Résolution numérique du système SEIR"
   ]
  },
  {
   "cell_type": "code",
   "execution_count": 33,
   "metadata": {},
   "outputs": [],
   "source": [
    "## Choix des paramètres\n",
    "gamma = 1/4.\n",
    "E_0 = 0"
   ]
  },
  {
   "cell_type": "code",
   "execution_count": 34,
   "metadata": {},
   "outputs": [],
   "source": [
    "## Fonction sous-jacente à l'EDO\n",
    "def fct_SEIR(x):\n",
    "    return np.array([...]) ## A REMPLIR"
   ]
  },
  {
   "cell_type": "code",
   "execution_count": 35,
   "metadata": {},
   "outputs": [],
   "source": [
    "## Condition initiale\n",
    "x0 = np.array([S_0, E_0, I_0, R_0])"
   ]
  },
  {
   "cell_type": "code",
   "execution_count": 39,
   "metadata": {},
   "outputs": [],
   "source": [
    "## Choix de la discrétisation\n",
    "N = 10000"
   ]
  },
  {
   "cell_type": "code",
   "execution_count": 40,
   "metadata": {},
   "outputs": [],
   "source": [
    "## Calcul de la solution approchée\n",
    "x = ... ## A REMPLIR "
   ]
  },
  {
   "cell_type": "code",
   "execution_count": 41,
   "metadata": {},
   "outputs": [],
   "source": [
    "## Tracé de la solution\n",
    "t = np.linspace(0,T,N)\n",
    "plt.plot(t,np.asarray(x)[:,3]/N_0)\n",
    "plt.show()"
   ]
  }
 ],
 "metadata": {
  "kernelspec": {
   "display_name": "Python 3",
   "language": "python",
   "name": "python3"
  },
  "language_info": {
   "codemirror_mode": {
    "name": "ipython",
    "version": 3
   },
   "file_extension": ".py",
   "mimetype": "text/x-python",
   "name": "python",
   "nbconvert_exporter": "python",
   "pygments_lexer": "ipython3",
   "version": "3.6.10"
  }
 },
 "nbformat": 4,
 "nbformat_minor": 2
}
