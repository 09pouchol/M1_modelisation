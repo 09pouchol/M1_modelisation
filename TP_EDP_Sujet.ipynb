{
 "cells": [
  {
   "cell_type": "code",
   "execution_count": null,
   "metadata": {},
   "outputs": [],
   "source": [
    "import numpy as np\n",
    "import matplotlib.pyplot as plt\n",
    "from matplotlib import animation"
   ]
  },
  {
   "cell_type": "markdown",
   "metadata": {},
   "source": [
    "# 1. Méthode des différences finies"
   ]
  },
  {
   "cell_type": "markdown",
   "metadata": {},
   "source": [
    "## 1.1. Transport"
   ]
  },
  {
   "cell_type": "code",
   "execution_count": null,
   "metadata": {},
   "outputs": [],
   "source": [
    "## Discrétisation\n",
    "T = 1\n",
    "Nt = 400\n",
    "dt = T/Nt\n",
    "Nx = 200\n",
    "dx = 1/Nx\n",
    "\n",
    "t = np.linspace(0,T,Nt+1)\n",
    "x = np.linspace(0,1,Nx+1)"
   ]
  },
  {
   "cell_type": "code",
   "execution_count": null,
   "metadata": {},
   "outputs": [],
   "source": [
    "## Paramètres\n",
    "c = 1\n",
    "nu = c*(dt/dx)"
   ]
  },
  {
   "cell_type": "code",
   "execution_count": null,
   "metadata": {},
   "outputs": [],
   "source": [
    "## Condition initiale\n",
    "def u0(x): \n",
    "    return (x<0.4)*(x>0.1)"
   ]
  },
  {
   "cell_type": "code",
   "execution_count": null,
   "metadata": {},
   "outputs": [],
   "source": [
    "## Matrice sous-jacente au schéma\n",
    "A = np.zeros((Nx,Nx))\n",
    "A[0,0] = - nu\n",
    "for i in range(Nx-1):\n",
    "    A[i+1,i] = nu\n",
    "    A[i+1,i+1] = -nu"
   ]
  },
  {
   "cell_type": "code",
   "execution_count": null,
   "metadata": {},
   "outputs": [],
   "source": [
    "## Donnée initiale \n",
    "U = np.zeros((Nt+1,Nx+1))\n",
    "for j in range(Nx+1):\n",
    "    U[0,j] = u0(x[j])"
   ]
  },
  {
   "cell_type": "code",
   "execution_count": null,
   "metadata": {
    "scrolled": true
   },
   "outputs": [],
   "source": [
    "## Tracé de la condition initiale\n",
    "plt.plot(x, U[0,:], 'b', label='u0')\n",
    "plt.legend(loc='best')\n",
    "plt.xlabel('t')\n",
    "plt.grid()\n",
    "plt.show()"
   ]
  },
  {
   "cell_type": "code",
   "execution_count": null,
   "metadata": {},
   "outputs": [],
   "source": [
    "## Conditions au bord\n",
    "for n in range(Nt):\n",
    "    U[n+1,0] = 0"
   ]
  },
  {
   "cell_type": "markdown",
   "metadata": {},
   "source": [
    "### 1.1.1. Explicite amont"
   ]
  },
  {
   "cell_type": "code",
   "execution_count": null,
   "metadata": {},
   "outputs": [],
   "source": [
    "## Calcul du schéma\n",
    "B_exp = np.identity(Nx) + A\n",
    "for n in range(Nt):\n",
    "    U[n+1,1:] = B_exp@U[n,1:]"
   ]
  },
  {
   "cell_type": "code",
   "execution_count": null,
   "metadata": {},
   "outputs": [],
   "source": [
    "## Tracé de la solution\n",
    "plt.plot(x, U[200,:], 'b')\n",
    "plt.xlabel('t')\n",
    "plt.grid()\n",
    "plt.show()"
   ]
  },
  {
   "cell_type": "markdown",
   "metadata": {},
   "source": [
    "### 1.1.2. Implicite amont"
   ]
  },
  {
   "cell_type": "code",
   "execution_count": null,
   "metadata": {},
   "outputs": [],
   "source": [
    "## Calcul du schéma\n",
    "## A REMPLIR\n",
    "# B_imp = ...\n",
    "# for n in range(Nt):\n",
    "    # ... "
   ]
  },
  {
   "cell_type": "code",
   "execution_count": null,
   "metadata": {},
   "outputs": [],
   "source": [
    "## Tracé de la solution\n",
    "plt.plot(x, U[200,:], 'b')\n",
    "plt.xlabel('t')\n",
    "plt.grid()\n",
    "plt.show()"
   ]
  },
  {
   "cell_type": "markdown",
   "metadata": {},
   "source": [
    "## 1.2. Diffusion"
   ]
  },
  {
   "cell_type": "code",
   "execution_count": null,
   "metadata": {},
   "outputs": [],
   "source": [
    "## Discrétisation\n",
    "T = 1\n",
    "Nt = 400\n",
    "dt = T/Nt\n",
    "Nx = 200\n",
    "dx = 1/Nx\n",
    "\n",
    "t = np.linspace(0,T,Nt+1)\n",
    "x = np.linspace(0,1,Nx+1)"
   ]
  },
  {
   "cell_type": "code",
   "execution_count": null,
   "metadata": {},
   "outputs": [],
   "source": [
    "## Paramètres\n",
    "D = 0.01\n",
    "nu = D*(dt/(dx)**2)"
   ]
  },
  {
   "cell_type": "code",
   "execution_count": null,
   "metadata": {},
   "outputs": [],
   "source": [
    "## Condition initiale\n",
    "def u0(x): \n",
    "    return (x<2/3)*(x>1/3)"
   ]
  },
  {
   "cell_type": "code",
   "execution_count": null,
   "metadata": {},
   "outputs": [],
   "source": [
    "## Matrice sous-jacente au schéma\n",
    "A = np.zeros((Nx-1,Nx-1))\n",
    "## A REMPLIR"
   ]
  },
  {
   "cell_type": "code",
   "execution_count": null,
   "metadata": {},
   "outputs": [],
   "source": [
    "## Donnée initiale \n",
    "U = np.zeros((Nt+1,Nx+1))\n",
    "for j in range(Nx+1):\n",
    "    U[0,j] = u0(x[j])"
   ]
  },
  {
   "cell_type": "code",
   "execution_count": null,
   "metadata": {},
   "outputs": [],
   "source": [
    "## Conditions au bord\n",
    "## A REMPLIR"
   ]
  },
  {
   "cell_type": "markdown",
   "metadata": {},
   "source": [
    "### 1.2.1. Explicite"
   ]
  },
  {
   "cell_type": "code",
   "execution_count": null,
   "metadata": {},
   "outputs": [],
   "source": [
    "## Calcul du schéma\n",
    "## A REMPLIR"
   ]
  },
  {
   "cell_type": "code",
   "execution_count": null,
   "metadata": {},
   "outputs": [],
   "source": [
    "## Tracé de la solution\n",
    "plt.plot(x, U[400,:], 'b')\n",
    "plt.xlabel('t')\n",
    "plt.grid()\n",
    "plt.show()"
   ]
  },
  {
   "cell_type": "markdown",
   "metadata": {},
   "source": [
    "### 1.2.2. Implicite"
   ]
  },
  {
   "cell_type": "code",
   "execution_count": null,
   "metadata": {},
   "outputs": [],
   "source": [
    "## Calcul du schéma\n",
    "## A REMPLIR"
   ]
  },
  {
   "cell_type": "code",
   "execution_count": null,
   "metadata": {},
   "outputs": [],
   "source": [
    "## Tracé de la solution\n",
    "plt.plot(x, U[400,:], 'b')\n",
    "plt.xlabel('t')\n",
    "plt.grid()\n",
    "plt.show()"
   ]
  },
  {
   "cell_type": "markdown",
   "metadata": {},
   "source": [
    "## 1.3. Transport - diffusion - réaction"
   ]
  },
  {
   "cell_type": "code",
   "execution_count": null,
   "metadata": {},
   "outputs": [],
   "source": [
    "## Discrétisation\n",
    "T = 1\n",
    "Nt = 100\n",
    "dt = T/Nt\n",
    "Nx = 100\n",
    "dx = 1/Nx\n",
    "\n",
    "t = np.linspace(0,T,Nt+1)\n",
    "x = np.linspace(0,1,Nx+1)"
   ]
  },
  {
   "cell_type": "code",
   "execution_count": null,
   "metadata": {},
   "outputs": [],
   "source": [
    "## Paramètres\n",
    "c = 1\n",
    "D = 0.1\n",
    "beta = 1\n",
    "nu1 = c*(dt/dx)\n",
    "nu2 = D*(dt/(dx)**2)"
   ]
  },
  {
   "cell_type": "code",
   "execution_count": null,
   "metadata": {},
   "outputs": [],
   "source": [
    "## Condition initiale\n",
    "def u0(x): \n",
    "    return (x<2/3)*(x>1/3)"
   ]
  },
  {
   "cell_type": "code",
   "execution_count": null,
   "metadata": {},
   "outputs": [],
   "source": [
    "## Matrices sous-jacentes au schéma\n",
    "## A REMPLIR\n",
    "# A1 = ... (transport)\n",
    "# A2 = ... (diffusion)"
   ]
  },
  {
   "cell_type": "code",
   "execution_count": null,
   "metadata": {},
   "outputs": [],
   "source": [
    "## Donnée initiale \n",
    "U = np.zeros((Nt+1,Nx+1))\n",
    "for j in range(Nx+1):\n",
    "    U[0,j] = u0(x[j])"
   ]
  },
  {
   "cell_type": "code",
   "execution_count": null,
   "metadata": {},
   "outputs": [],
   "source": [
    "## Conditions au bord\n",
    "## A REMPLIR"
   ]
  },
  {
   "cell_type": "code",
   "execution_count": null,
   "metadata": {},
   "outputs": [],
   "source": [
    "## Calcul du schéma\n",
    "## A REMPLIR\n",
    "# B = ... + A1 + A2 "
   ]
  },
  {
   "cell_type": "code",
   "execution_count": null,
   "metadata": {},
   "outputs": [],
   "source": [
    "## Tracé de la solution\n",
    "plt.plot(x, U[100,:], 'b')\n",
    "plt.xlabel('t')\n",
    "plt.grid()\n",
    "plt.show()"
   ]
  },
  {
   "cell_type": "markdown",
   "metadata": {},
   "source": [
    "# 2. Sytème proies-prédateurs EDP"
   ]
  },
  {
   "cell_type": "markdown",
   "metadata": {},
   "source": [
    "## 2.1. Paramètres"
   ]
  },
  {
   "cell_type": "code",
   "execution_count": null,
   "metadata": {},
   "outputs": [],
   "source": [
    "## Discrétisation\n",
    "T = 1.5\n",
    "Nt = 2000\n",
    "dt = T/Nt\n",
    "Nx = 500\n",
    "dx = 1/Nx\n",
    "\n",
    "t = np.linspace(0,T,Nt+1)\n",
    "x = np.linspace(0,1,Nx+1)"
   ]
  },
  {
   "cell_type": "code",
   "execution_count": null,
   "metadata": {},
   "outputs": [],
   "source": [
    "## Paramètres\n",
    "c_u = 0\n",
    "c_v = 0.2\n",
    "D_u = 0.05\n",
    "D_v = 0.01\n",
    "beta_u = 1\n",
    "beta_v = 0\n",
    "tau = 0.2\n",
    "nu1_u = c_u*(dt/dx)\n",
    "nu2_u = D_u*(dt/(dx)**2)\n",
    "nu1_v = c_v*(dt/dx)\n",
    "nu2_v = D_v*(dt/(dx)**2)"
   ]
  },
  {
   "cell_type": "code",
   "execution_count": null,
   "metadata": {},
   "outputs": [],
   "source": [
    "## Condition initiale\n",
    "def u0(x): \n",
    "    return (x<0.5)*(x>0.1)\n",
    "def v0(x): \n",
    "    return (x<0.9)*(x>0.5)"
   ]
  },
  {
   "cell_type": "code",
   "execution_count": null,
   "metadata": {},
   "outputs": [],
   "source": [
    "## Matrices sous-jacentes au schéma\n",
    "## A REMPLIR\n",
    "# A1_u = ... transport pour l'équation sur u\n",
    "# A1_v = ... transport pour l'équation sur v\n",
    "# A2_u = ... diffusion pour l'équation sur u\n",
    "# A2_v = ... diffusion pour l'équation sur v"
   ]
  },
  {
   "cell_type": "code",
   "execution_count": null,
   "metadata": {},
   "outputs": [],
   "source": [
    "## Données initiales\n",
    "U = np.zeros((Nt+1,Nx+1))\n",
    "for j in range(Nx+1):\n",
    "    U[0,j] = u0(x[j])\n",
    "V = np.zeros((Nt+1,Nx+1))\n",
    "for j in range(Nx+1):\n",
    "    V[0,j] = v0(x[j])"
   ]
  },
  {
   "cell_type": "code",
   "execution_count": null,
   "metadata": {},
   "outputs": [],
   "source": [
    "## Conditions au bord\n",
    "## A REMPLIR"
   ]
  },
  {
   "cell_type": "code",
   "execution_count": null,
   "metadata": {},
   "outputs": [],
   "source": [
    "## Calcul du schéma\n",
    "## A REMPLIR\n",
    "# C_u = ... + A1_u + A2_u\n",
    "# C_v = ... + A1_u + A2_v\n",
    "# for n in range(Nt):\n",
    "    # B_u = C_u + ...\n",
    "    # B_v = C_v + ...\n",
    "    # U[n+1,1:-1] = ...\n",
    "    # V[n+1,1:-1] = ..."
   ]
  },
  {
   "cell_type": "code",
   "execution_count": null,
   "metadata": {},
   "outputs": [],
   "source": [
    "## Tracé de la solution\n",
    "plt.plot(x, U[10,:], 'b')\n",
    "plt.plot(x, V[10,:], 'r')\n",
    "plt.xlabel('t')\n",
    "plt.grid()\n",
    "plt.show()"
   ]
  }
 ],
 "metadata": {
  "kernelspec": {
   "display_name": "Python 3",
   "language": "python",
   "name": "python3"
  },
  "language_info": {
   "codemirror_mode": {
    "name": "ipython",
    "version": 3
   },
   "file_extension": ".py",
   "mimetype": "text/x-python",
   "name": "python",
   "nbconvert_exporter": "python",
   "pygments_lexer": "ipython3",
   "version": "3.6.8"
  }
 },
 "nbformat": 4,
 "nbformat_minor": 2
}
